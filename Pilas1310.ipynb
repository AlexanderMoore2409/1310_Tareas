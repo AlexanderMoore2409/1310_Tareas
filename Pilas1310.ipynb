{
  "nbformat": 4,
  "nbformat_minor": 0,
  "metadata": {
    "colab": {
      "name": "Pilas1310.ipynb",
      "provenance": [],
      "collapsed_sections": [],
      "authorship_tag": "ABX9TyPpKzV/RY6oNVMWal/H1131",
      "include_colab_link": true
    },
    "kernelspec": {
      "name": "python3",
      "display_name": "Python 3"
    },
    "language_info": {
      "name": "python"
    }
  },
  "cells": [
    {
      "cell_type": "markdown",
      "metadata": {
        "id": "view-in-github",
        "colab_type": "text"
      },
      "source": [
        "<a href=\"https://colab.research.google.com/github/AlexanderMoore2409/1310_Tareas/blob/main/Pilas1310.ipynb\" target=\"_parent\"><img src=\"https://colab.research.google.com/assets/colab-badge.svg\" alt=\"Open In Colab\"/></a>"
      ]
    },
    {
      "cell_type": "code",
      "metadata": {
        "id": "O9MJacR3ALLU"
      },
      "source": [
        "class StackADT:\n",
        "  def __init__(self):\n",
        "    self.__data = list()\n",
        "\n",
        "  #Regresa true si la lista esta vacia\n",
        "  def is_empty(self):\n",
        "    return len(self.__data) == 0\n",
        "  \n",
        "  def get_length(self):\n",
        "    return len(self.__data)\n",
        "\n",
        "  def pop(self):\n",
        "    if self.is_empty():\n",
        "      print(\"pila vacia no hay nada que sacar\")\n",
        "    else:\n",
        "      return self.__data.pop()\n",
        "  \n",
        "  def peek(self):\n",
        "    if self.is_empty():\n",
        "      print(\"pila vacia no hay nada que sacar\")\n",
        "    else:\n",
        "      return self.__data[-1]\n",
        "\n",
        "  def push(self,value):\n",
        "    self.__data.append(value)\n",
        "\n",
        "  def to_string(self):\n",
        "    for item in self.__data[::-1]:\n",
        "      print(f\"|{item}|\")"
      ],
      "execution_count": 1,
      "outputs": []
    },
    {
      "cell_type": "code",
      "metadata": {
        "colab": {
          "base_uri": "https://localhost:8080/"
        },
        "id": "OqGaQcchQoht",
        "outputId": "db65f6ab-bc25-4a1b-af79-34fa09e11eaa"
      },
      "source": [
        "pila =  StackADT()\n",
        "print(\"Esta Vacia=\", pila.is_empty())\n",
        "print(\"#elementos:\",pila.get_length())\n",
        "pila.push(10)\n",
        "print(\"Esta Vacia? =\", pila.is_empty())\n",
        "print(\"#elementos:\",pila.get_length())\n",
        "pila.push(20)\n",
        "pila.push(30)\n",
        "pila.push(40)\n",
        "pila.to_string()\n",
        "print(pila.pop()) #40\n",
        "print(pila.peek()) #30\n",
        "pila.to_string()"
      ],
      "execution_count": 2,
      "outputs": [
        {
          "output_type": "stream",
          "name": "stdout",
          "text": [
            "Esta Vacia= True\n",
            "#elementos: 0\n",
            "Esta Vacia? = False\n",
            "#elementos: 1\n",
            "|40|\n",
            "|30|\n",
            "|20|\n",
            "|10|\n",
            "40\n",
            "30\n",
            "|30|\n",
            "|20|\n",
            "|10|\n"
          ]
        }
      ]
    },
    {
      "cell_type": "markdown",
      "metadata": {
        "id": "nXzvYrIFyl5r"
      },
      "source": [
        "#Aplicacion de pilas Balanceo de llaves en programación\n"
      ]
    },
    {
      "cell_type": "code",
      "metadata": {
        "id": "WEt2VZ58leDi",
        "colab": {
          "base_uri": "https://localhost:8080/"
        },
        "outputId": "1dd0b947-2824-47a0-f33a-968f7561674f"
      },
      "source": [
        "!cat Matriz.txt"
      ],
      "execution_count": 3,
      "outputs": [
        {
          "output_type": "stream",
          "name": "stdout",
          "text": [
            "#include <stdio.h>\r\n",
            "int main()\r\n",
            "{\r\n",
            "    int num, count, sum = 0;\r\n",
            "    {}\r\n",
            "\r\n",
            "    printf(\"Enter a positive integer: \");\r\n",
            "    scanf(\"%d\", &num);\r\n",
            "\r\n",
            "    // for loop terminates when num is less than count\r\n",
            "    for(count = 1; count <= num; ++count)\r\n",
            "    {\r\n",
            "        sum += count;\r\n",
            "    }\r\n",
            "\r\n",
            "    printf(\"Sum = %d\", sum);\r\n",
            "\r\n",
            "    return 0;\r\n",
            "}"
          ]
        }
      ]
    },
    {
      "cell_type": "code",
      "metadata": {
        "colab": {
          "base_uri": "https://localhost:8080/"
        },
        "id": "DzBBxbS9zv_A",
        "outputId": "5fb5c60d-8589-46f0-c91f-a55d8e21151c"
      },
      "source": [
        "entrada = open('Matriz.txt', 'rt')\n",
        "codigo = entrada.read()\n",
        "#print(codigo)\n",
        "pilaControl = StackADT()\n",
        "pilaControl.push(\"#\")\n",
        "\n",
        "for letra in codigo:\n",
        "  #print(f\"--> {letra} <--\")\n",
        "  if letra == '{': #regla 1\n",
        "    pilaControl.push(\"{\")\n",
        "  elif letra == '}': #regla 2\n",
        "    basura = pilaControl.pop()\n",
        "  else: \n",
        "    pass\n",
        "\n",
        "  #NOTA: este codigo no contempla desbalanceo\n",
        "if pilaControl.peek() == '#':\n",
        "  print(\"El codigo esta correctamente balanaceado\")\n",
        "else:\n",
        "  print(\"el codigo no esta balanceado {Y}\") "
      ],
      "execution_count": 4,
      "outputs": [
        {
          "output_type": "stream",
          "name": "stdout",
          "text": [
            "El codigo esta correctamente balanaceado\n"
          ]
        }
      ]
    },
    {
      "cell_type": "markdown",
      "metadata": {
        "id": "RJRgn_Ub7cWB"
      },
      "source": [
        "#Aplicacion de pilas, Backtracking\n"
      ]
    },
    {
      "cell_type": "code",
      "metadata": {
        "id": "icDuSpZ97ejE",
        "colab": {
          "base_uri": "https://localhost:8080/"
        },
        "outputId": "24baeb0b-9882-4146-89be-2f6d3ac8c8e9"
      },
      "source": [
        "entrada2 = open('Matriz2.txt', 'rt')\n",
        "codigo = entrada2.read()\n",
        "#print(codigo)\n",
        "pilaControl = StackADT()\n",
        "pilaControl.push(\"#\")\n",
        "\n",
        "for letra in codigo:\n",
        "  #print(f\"--> {letra} <--\")\n",
        "  if letra == '(': #regla 1\n",
        "    pilaControl.push(\"(\")\n",
        "  elif letra == ')': #regla 2\n",
        "    basura = pilaControl.pop()\n",
        "  else: \n",
        "    pass\n",
        "\n",
        "  #NOTA: este codigo no contempla desbalanceo\n",
        "if pilaControl.peek() == '#':\n",
        "  print(\"El codigo esta correctamente balanaceado\")\n",
        "else:\n",
        "  print(\"el codigo no esta balanceado {Y}\") "
      ],
      "execution_count": 5,
      "outputs": [
        {
          "output_type": "stream",
          "name": "stdout",
          "text": [
            "el codigo no esta balanceado {Y}\n"
          ]
        }
      ]
    },
    {
      "cell_type": "code",
      "metadata": {
        "colab": {
          "base_uri": "https://localhost:8080/"
        },
        "id": "uLsopH7l6UCt",
        "outputId": "5a9274f2-435d-4638-ae34-bbd57c4eebda"
      },
      "source": [
        "entrada3 = open('Canion.txt', 'rt')\n",
        "codigo = entrada3.read()\n",
        "#print(codigo)\n",
        "pilaControl = StackADT()\n",
        "pilaControl.push(\"#\")\n",
        "\n",
        "for letra in codigo:\n",
        "  #print(f\"--> {letra} <--\")\n",
        "  if letra == '(': #regla 1\n",
        "    pilaControl.push(\"(\")\n",
        "  elif letra == ')': #regla 2\n",
        "    basura = pilaControl.pop()\n",
        "  else: \n",
        "    pass\n",
        "\n",
        "  #NOTA: este codigo no contempla desbalanceo\n",
        "if pilaControl.peek() == '#':\n",
        "  print(\"El codigo esta correctamente balanaceado\")\n",
        "else:\n",
        "  print(\"el codigo no esta balanceado {Y}\") "
      ],
      "execution_count": 6,
      "outputs": [
        {
          "output_type": "stream",
          "name": "stdout",
          "text": [
            "El codigo esta correctamente balanaceado\n"
          ]
        }
      ]
    },
    {
      "cell_type": "code",
      "metadata": {
        "colab": {
          "base_uri": "https://localhost:8080/"
        },
        "id": "fvV16KoG6Uv2",
        "outputId": "056bd891-6f17-46ce-ea9f-45b9ce85c7d9"
      },
      "source": [
        "entrada4 = open('Canion.txt', 'rt')\n",
        "codigo = entrada4.read()\n",
        "#print(codigo)\n",
        "pilaControl = StackADT()\n",
        "pilaControl.push(\"#\")\n",
        "\n",
        "for letra in codigo:\n",
        "  #print(f\"--> {letra} <--\")\n",
        "  if letra == '{': #regla 1\n",
        "    pilaControl.push(\"{\")\n",
        "  elif letra == '}': #regla 2\n",
        "    basura = pilaControl.pop()\n",
        "  else: \n",
        "    pass\n",
        "\n",
        "  #NOTA: este codigo no contempla desbalanceo\n",
        "if pilaControl.peek() == '#':\n",
        "  print(\"El codigo esta correctamente balanaceado\")\n",
        "else:\n",
        "  print(\"el codigo no esta balanceado {Y}\") "
      ],
      "execution_count": 7,
      "outputs": [
        {
          "output_type": "stream",
          "name": "stdout",
          "text": [
            "El codigo esta correctamente balanaceado\n"
          ]
        }
      ]
    }
  ]
}