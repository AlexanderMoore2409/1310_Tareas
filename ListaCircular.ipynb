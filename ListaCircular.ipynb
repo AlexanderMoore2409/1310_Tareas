{
  "nbformat": 4,
  "nbformat_minor": 0,
  "metadata": {
    "colab": {
      "name": "ListaCircular.ipynb",
      "provenance": [],
      "collapsed_sections": [],
      "authorship_tag": "ABX9TyMVl99e4DJ1I5egj/00vl1u",
      "include_colab_link": true
    },
    "kernelspec": {
      "name": "python3",
      "display_name": "Python 3"
    },
    "language_info": {
      "name": "python"
    }
  },
  "cells": [
    {
      "cell_type": "markdown",
      "metadata": {
        "id": "view-in-github",
        "colab_type": "text"
      },
      "source": [
        "<a href=\"https://colab.research.google.com/github/AlexanderMoore2409/1310_Tareas/blob/main/ListaCircular.ipynb\" target=\"_parent\"><img src=\"https://colab.research.google.com/assets/colab-badge.svg\" alt=\"Open In Colab\"/></a>"
      ]
    },
    {
      "cell_type": "code",
      "metadata": {
        "id": "4GoUL9tDoDZm"
      },
      "source": [
        "class Nodo:\n",
        "  def __init__(self, value, siguiente = None):\n",
        "    self.data = value\n",
        "    self.next = siguiente"
      ],
      "execution_count": 5,
      "outputs": []
    },
    {
      "cell_type": "code",
      "metadata": {
        "id": "wLW1hqN_oJqX"
      },
      "source": [
        "class CircularList:\n",
        "  def __init__(self):\n",
        "    self.ref = None\n",
        "\n",
        "  def is_empty(self):\n",
        "    return self.ref == None\n",
        "  \n",
        "  def insert(self,value):\n",
        "    if self.is_empty():\n",
        "      self.ref = Nodo(value)\n",
        "      self.ref.next = self.ref\n",
        "    elif self.search(value):\n",
        "      print(\"Error aqui no hay nada\")\n",
        "    else:\n",
        "      if value > self.ref.data:\n",
        "        curr_node = self.ref\n",
        "        while curr_node.next != self.ref:\n",
        "          curr_node = curr_node.next\n",
        "        self.ref = Nodo(value, curr_node.next.next)\n",
        "        curr_node.next.next = self.ref\n",
        "      else:\n",
        "        curr_node = self.ref\n",
        "        while value > curr_node.next.data:\n",
        "          curr_node = curr_node.next\n",
        "        curr_node.next = Nodo(value,curr_node.next) \n",
        "\n",
        "  def transversal(self):\n",
        "    curr_node = self.ref\n",
        "    if curr_node == self.ref and curr_node != None:\n",
        "      print(f\"| {curr_node.data} | -->\", end = \"\")\n",
        "      curr_node = curr_node.next\n",
        "    while curr_node != self.ref:\n",
        "      print(f\"| {curr_node.data} | -->\", end = \"\")\n",
        "      curr_node = curr_node.next\n",
        "    print(\"\")\n",
        "\n",
        "  def search(self,value):\n",
        "    Found = False\n",
        "    curr_node = self.ref\n",
        "    while curr_node.next.data != self.ref.data:\n",
        "      if curr_node.next.data == value:\n",
        "        Found = True\n",
        "      curr_node = curr_node.next\n",
        "    if curr_node.next.data == self.ref.data and curr_node.next.data == value:\n",
        "      Found == True\n",
        "    return Found\n",
        "\n",
        "  def remove(self,value):\n",
        "    if self.ref.next == self.ref:\n",
        "      self.ref = None\n",
        "    elif value == self.ref.data:\n",
        "      curr_node = self.ref\n",
        "      while curr_node.next != self.ref:\n",
        "        curr_node = curr_node.next\n",
        "      curr_node.next = self.ref.next\n",
        "      self.ref = curr_node\n",
        "    else:\n",
        "      curr_node = self.ref\n",
        "      while curr_node.next.data != value:\n",
        "        curr_node = curr_node.next\n",
        "      curr_node.next = curr_node.next.next"
      ],
      "execution_count": 6,
      "outputs": []
    },
    {
      "cell_type": "code",
      "metadata": {
        "colab": {
          "base_uri": "https://localhost:8080/"
        },
        "id": "H50db5x8oO4s",
        "outputId": "8ae294e7-3e4f-4cdd-a929-c82d28c197cd"
      },
      "source": [
        "ListCir = CircularList()\n",
        "if ListCir.is_empty():\n",
        "  print(\"No hay nada aqui\")\n",
        "else:\n",
        "  print(\"Hay algo en tu lista!!!\")\n",
        "\n",
        "ListCir.insert(10)\n",
        "ListCir.transversal()\n",
        "ListCir.insert(20)\n",
        "ListCir.insert(200)\n",
        "ListCir.insert(400)\n",
        "ListCir.insert(1200)\n",
        "ListCir.insert(2400)\n",
        "ListCir.insert(6500)\n",
        "ListCir.insert(1)\n",
        "ListCir.insert(0)\n",
        "\n",
        "ListCir.transversal()\n",
        "\n",
        "\n",
        "ListCir.remove(6500)\n",
        "\n",
        "ListCir.transversal()"
      ],
      "execution_count": 12,
      "outputs": [
        {
          "output_type": "stream",
          "name": "stdout",
          "text": [
            "No hay nada aqui\n",
            "| 10 | -->\n",
            "| 6500 | -->| 0 | -->| 1 | -->| 10 | -->| 20 | -->| 200 | -->| 400 | -->| 1200 | -->| 2400 | -->\n",
            "| 2400 | -->| 0 | -->| 1 | -->| 10 | -->| 20 | -->| 200 | -->| 400 | -->| 1200 | -->\n"
          ]
        }
      ]
    }
  ]
}