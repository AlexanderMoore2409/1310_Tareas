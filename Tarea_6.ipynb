{
  "nbformat": 4,
  "nbformat_minor": 0,
  "metadata": {
    "colab": {
      "name": "Tarea 6.ipynb",
      "provenance": [],
      "collapsed_sections": [],
      "authorship_tag": "ABX9TyPxJCiDvA9nZK2Y7b6d2gJ5",
      "include_colab_link": true
    },
    "kernelspec": {
      "name": "python3",
      "display_name": "Python 3"
    },
    "language_info": {
      "name": "python"
    }
  },
  "cells": [
    {
      "cell_type": "markdown",
      "metadata": {
        "id": "view-in-github",
        "colab_type": "text"
      },
      "source": [
        "<a href=\"https://colab.research.google.com/github/AlexanderMoore2409/1310_Tareas/blob/main/Tarea_6.ipynb\" target=\"_parent\"><img src=\"https://colab.research.google.com/assets/colab-badge.svg\" alt=\"Open In Colab\"/></a>"
      ]
    },
    {
      "cell_type": "code",
      "metadata": {
        "id": "8mzjW8AbP8Em"
      },
      "source": [
        "   class Array2DADT:\n",
        "        def __init__( self , ren , col ):\n",
        "            self.__data = [ [ 0 for y in range(col) ] for x in range(ren) ]\n",
        "            \n",
        "        def clear( self, dato ):\n",
        "            self.__data = [ [ dato for y in range(self.get_col_size()) ] for x in range(self.get_row_size()) ]\n",
        "\n",
        "        def get_row_size( self ):\n",
        "            return len( self.__data)\n",
        "\n",
        "        def get_col_size( self ):\n",
        "            return len( self.__data[0] )\n",
        "\n",
        "        def set_item( self, ren, col, dato ):\n",
        "            self.__data[ren][col] = dato\n",
        "\n",
        "        def get_item( self, ren, col ):\n",
        "            return self.__data[ren][col]\n",
        "\n",
        "        def to_string( self ):\n",
        "            cadena = \"\"\n",
        "            for renglon in self.__data:\n",
        "                cadena = cadena + \"|\"\n",
        "                for dato in renglon:\n",
        "                    cadena = cadena + str (dato) + \" | \"\n",
        "                cadena = cadena + \"\\n\"\n",
        "            return cadena "
      ],
      "execution_count": 1,
      "outputs": []
    },
    {
      "cell_type": "code",
      "metadata": {
        "id": "BqcQuKKuQKBD"
      },
      "source": [
        "\"\"\"\n",
        "    datos del archivo entrada1.txt:\n",
        "\n",
        "    6\n",
        "    7\n",
        "    0,0,0,0,0,0\n",
        "    0,0,1,0,0,0\n",
        "    0,1,1,1,0,0\n",
        "    0,0,0,0,0,0\n",
        "    0,0,0,0,0,0\n",
        "    1,0,1,0,0,0\n",
        "    0,0,0,0,0,0 \n",
        "    11\n",
        "    \n",
        "\n",
        "\n",
        "    Datos del archivo entrada2.txt\n",
        "\n",
        "    6\n",
        "    7\n",
        "    0,0,0,0,0,0\n",
        "    0,0,1,0,0,0\n",
        "    0,1,1,1,0,0\n",
        "    0,0,0,0,0,0\n",
        "    0,0,0,0,0,0\n",
        "    1,0,1,0,0,0\n",
        "    0,0,1,1,1,0 \n",
        "    11\n",
        "\"\"\"\n",
        "\n",
        "class JuegoDeLaVida:\n",
        "        def __init__( self, ruta_archivo ):\n",
        "\n",
        "            self.rens = None\n",
        "            self.cola = None\n",
        "            self.tablero = None\n",
        "            self.generaciones = None\n",
        "            self.read_game_data (ruta_archivo)\n",
        "\n",
        "\n",
        "        def read_game_data( self, archivo ):\n",
        "            archivo = open(archivo, 'rt')\n",
        "            lineas = archivo.readlines()\n",
        "            for index in range(len(lineas)):\n",
        "                lineas[index] = lineas[index].strip()\n",
        "            #print(lineas)\n",
        "            self.rens = int( lineas[0] )\n",
        "            self.cols = int( lineas[1] )\n",
        "            self.tablero = Array2DADT(self.rens, self.cols)\n",
        "            r = 0\n",
        "            c = 0\n",
        "            print(lineas)\n",
        "\n",
        "            for index in range(2 , 2 + self.rens , 1 ):\n",
        "                c=0\n",
        "                for dato in lineas[index].split(','):\n",
        "                    self.tablero.set_item( r, c,int(dato) )\n",
        "                    c += 1\n",
        "                r += 1\n",
        "\n",
        "            self.generaciones = int(lineas[ len(lineas) -1 ] )\n",
        "            print(\"Gens: \" , self.generaciones)\n",
        "            print(self.tablero.to_string())\n",
        "\n",
        "        def get_vecinos( self , r , c):\n",
        "            vecinos = []\n",
        "            for ren in range( r-1 , r+2 , 1 ):\n",
        "                for col in range(c-1 , c+2 , 1):\n",
        "                    if ren < 0 or ren >= self.tablero.get_row_size() or col < 0 or col >= self.tablero.get_col_size() or (ren==r and col==c):\n",
        "                        pass\n",
        "                    else:\n",
        "                        vecinos.append((ren,col))\n",
        "            return vecinos\n",
        "\n",
        "        def get_vecinos_vivos(self, r, c):\n",
        "            vecinos = self.get_vecinos(r,c)\n",
        "            vivos = 0\n",
        "            for par in vecinos:\n",
        "                if self.tablero.get_item( par[0] , par[1] ) == 1:\n",
        "                    vivos +=1 \n",
        "            return vivos\n",
        "\n",
        "\n",
        "\n",
        "\n",
        "\n",
        "        def calcular_siguiente( self ):\n",
        "            nueva_gen = Array2DADT(self.rens, self.cols)\n",
        "            # aplicar 4 reglas a cada celula y el resultado ponerlo en nueva_gen\n",
        "            for ren in range(self.rens):\n",
        "                for col in range(self.cols):\n",
        "                    pass\n",
        "\n",
        "\n",
        "            self.tablero = nueva_gen\n",
        "\n",
        "\n"
      ],
      "execution_count": 7,
      "outputs": []
    },
    {
      "cell_type": "code",
      "metadata": {
        "colab": {
          "base_uri": "https://localhost:8080/",
          "height": 377
        },
        "id": "Ft9eff5oajXz",
        "outputId": "3eac468e-db22-4d70-fa1b-f6e7662fcb91"
      },
      "source": [
        " juego = JuegoDeLaVida( \"entrada1.txt\")\n",
        " juego2 = JuegoDeLaVida(\"entrada2.txt\") \n",
        " juego.calcular_siguiente()"
      ],
      "execution_count": 12,
      "outputs": [
        {
          "output_type": "stream",
          "name": "stdout",
          "text": [
            "['6', '7', '0,0,0,0,0,0', '0,0,1,0,0,0', '0,1,1,1,0,0', '0,0,0,0,0,0', '0,0,0,0,0,0', '1,0,1,0,0,0', '0,0,1,1,1,0', '11', '']\n"
          ]
        },
        {
          "output_type": "error",
          "ename": "ValueError",
          "evalue": "ignored",
          "traceback": [
            "\u001b[0;31m---------------------------------------------------------------------------\u001b[0m",
            "\u001b[0;31mValueError\u001b[0m                                Traceback (most recent call last)",
            "\u001b[0;32m<ipython-input-12-4a5506d28dbb>\u001b[0m in \u001b[0;36m<module>\u001b[0;34m()\u001b[0m\n\u001b[0;32m----> 1\u001b[0;31m \u001b[0mjuego\u001b[0m \u001b[0;34m=\u001b[0m \u001b[0mJuegoDeLaVida\u001b[0m\u001b[0;34m(\u001b[0m \u001b[0;34m\"entrada1.txt\"\u001b[0m\u001b[0;34m)\u001b[0m\u001b[0;34m\u001b[0m\u001b[0;34m\u001b[0m\u001b[0m\n\u001b[0m\u001b[1;32m      2\u001b[0m \u001b[0mjuego2\u001b[0m \u001b[0;34m=\u001b[0m \u001b[0mJuegoDeLaVida\u001b[0m\u001b[0;34m(\u001b[0m\u001b[0;34m\"entrada2.txt\"\u001b[0m\u001b[0;34m)\u001b[0m\u001b[0;34m\u001b[0m\u001b[0;34m\u001b[0m\u001b[0m\n\u001b[1;32m      3\u001b[0m \u001b[0mjuego\u001b[0m\u001b[0;34m.\u001b[0m\u001b[0mcalcular_siguiente\u001b[0m\u001b[0;34m(\u001b[0m\u001b[0;34m)\u001b[0m\u001b[0;34m\u001b[0m\u001b[0;34m\u001b[0m\u001b[0m\n",
            "\u001b[0;32m<ipython-input-7-8c7c01787e18>\u001b[0m in \u001b[0;36m__init__\u001b[0;34m(self, ruta_archivo)\u001b[0m\n\u001b[1;32m     36\u001b[0m             \u001b[0mself\u001b[0m\u001b[0;34m.\u001b[0m\u001b[0mtablero\u001b[0m \u001b[0;34m=\u001b[0m \u001b[0;32mNone\u001b[0m\u001b[0;34m\u001b[0m\u001b[0;34m\u001b[0m\u001b[0m\n\u001b[1;32m     37\u001b[0m             \u001b[0mself\u001b[0m\u001b[0;34m.\u001b[0m\u001b[0mgeneraciones\u001b[0m \u001b[0;34m=\u001b[0m \u001b[0;32mNone\u001b[0m\u001b[0;34m\u001b[0m\u001b[0;34m\u001b[0m\u001b[0m\n\u001b[0;32m---> 38\u001b[0;31m             \u001b[0mself\u001b[0m\u001b[0;34m.\u001b[0m\u001b[0mread_game_data\u001b[0m \u001b[0;34m(\u001b[0m\u001b[0mruta_archivo\u001b[0m\u001b[0;34m)\u001b[0m\u001b[0;34m\u001b[0m\u001b[0;34m\u001b[0m\u001b[0m\n\u001b[0m\u001b[1;32m     39\u001b[0m \u001b[0;34m\u001b[0m\u001b[0m\n\u001b[1;32m     40\u001b[0m \u001b[0;34m\u001b[0m\u001b[0m\n",
            "\u001b[0;32m<ipython-input-7-8c7c01787e18>\u001b[0m in \u001b[0;36mread_game_data\u001b[0;34m(self, archivo)\u001b[0m\n\u001b[1;32m     59\u001b[0m                 \u001b[0mr\u001b[0m \u001b[0;34m+=\u001b[0m \u001b[0;36m1\u001b[0m\u001b[0;34m\u001b[0m\u001b[0;34m\u001b[0m\u001b[0m\n\u001b[1;32m     60\u001b[0m \u001b[0;34m\u001b[0m\u001b[0m\n\u001b[0;32m---> 61\u001b[0;31m             \u001b[0mself\u001b[0m\u001b[0;34m.\u001b[0m\u001b[0mgeneraciones\u001b[0m \u001b[0;34m=\u001b[0m \u001b[0mint\u001b[0m\u001b[0;34m(\u001b[0m\u001b[0mlineas\u001b[0m\u001b[0;34m[\u001b[0m \u001b[0mlen\u001b[0m\u001b[0;34m(\u001b[0m\u001b[0mlineas\u001b[0m\u001b[0;34m)\u001b[0m \u001b[0;34m-\u001b[0m\u001b[0;36m1\u001b[0m \u001b[0;34m]\u001b[0m \u001b[0;34m)\u001b[0m\u001b[0;34m\u001b[0m\u001b[0;34m\u001b[0m\u001b[0m\n\u001b[0m\u001b[1;32m     62\u001b[0m             \u001b[0mprint\u001b[0m\u001b[0;34m(\u001b[0m\u001b[0;34m\"Gens: \"\u001b[0m \u001b[0;34m,\u001b[0m \u001b[0mself\u001b[0m\u001b[0;34m.\u001b[0m\u001b[0mgeneraciones\u001b[0m\u001b[0;34m)\u001b[0m\u001b[0;34m\u001b[0m\u001b[0;34m\u001b[0m\u001b[0m\n\u001b[1;32m     63\u001b[0m             \u001b[0mprint\u001b[0m\u001b[0;34m(\u001b[0m\u001b[0mself\u001b[0m\u001b[0;34m.\u001b[0m\u001b[0mtablero\u001b[0m\u001b[0;34m.\u001b[0m\u001b[0mto_string\u001b[0m\u001b[0;34m(\u001b[0m\u001b[0;34m)\u001b[0m\u001b[0;34m)\u001b[0m\u001b[0;34m\u001b[0m\u001b[0;34m\u001b[0m\u001b[0m\n",
            "\u001b[0;31mValueError\u001b[0m: invalid literal for int() with base 10: ''"
          ]
        }
      ]
    }
  ]
}