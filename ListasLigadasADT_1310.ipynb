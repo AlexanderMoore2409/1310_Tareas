{
  "nbformat": 4,
  "nbformat_minor": 0,
  "metadata": {
    "colab": {
      "name": "  ListasLigadasADT_1310.ipynb",
      "provenance": [],
      "collapsed_sections": [],
      "include_colab_link": true
    },
    "kernelspec": {
      "name": "python3",
      "display_name": "Python 3"
    },
    "language_info": {
      "name": "python"
    }
  },
  "cells": [
    {
      "cell_type": "markdown",
      "metadata": {
        "id": "view-in-github",
        "colab_type": "text"
      },
      "source": [
        "<a href=\"https://colab.research.google.com/github/AlexanderMoore2409/1310_Tareas/blob/main/ListasLigadasADT_1310.ipynb\" target=\"_parent\"><img src=\"https://colab.research.google.com/assets/colab-badge.svg\" alt=\"Open In Colab\"/></a>"
      ]
    },
    {
      "cell_type": "code",
      "metadata": {
        "id": "knFFk7jO0Y9A"
      },
      "source": [
        "class Nodo:\n",
        "  def __init__(self, value, siguiente = None ):\n",
        "    self.data = value\n",
        "    self.next = siguiente"
      ],
      "execution_count": 1,
      "outputs": []
    },
    {
      "cell_type": "code",
      "metadata": {
        "colab": {
          "base_uri": "https://localhost:8080/"
        },
        "id": "Qhy5W8UF0c0N",
        "outputId": "b9c2ceb2-a8b4-4e81-f153-584dd6364c54"
      },
      "source": [
        "head = Nodo(10)\n",
        "print(head.data)"
      ],
      "execution_count": 2,
      "outputs": [
        {
          "output_type": "stream",
          "name": "stdout",
          "text": [
            "10\n"
          ]
        }
      ]
    },
    {
      "cell_type": "code",
      "metadata": {
        "colab": {
          "base_uri": "https://localhost:8080/"
        },
        "id": "xnOnL7p70gBd",
        "outputId": "93d494a6-051c-4257-dde2-eaa300c636bd"
      },
      "source": [
        "ead = Nodo(10)\n",
        "head.next = Nodo(20)\n",
        "print(f\"Primero = {head.data}\")\n",
        "print(f\"Segundo = {head.next.data}\")\n",
        "\n",
        "#lo mismo pero ahorrando codigo\n",
        "\n",
        "head = Nodo(10, Nodo(20))\n",
        "print(f\"Primero = {head.data}\")\n",
        "print(f\"Segundo = {head.next.data}\")\n",
        "\n",
        "#transversal\n",
        "curr_node = head\n",
        "while curr_node != None:\n",
        "  print(f\"|{curr_node.data}|-->\", end=\"\")\n",
        "  curr_node = curr_node.next\n",
        "\n",
        "#insertar el nodo 25 despues del 20 y antes del 30\n"
      ],
      "execution_count": 3,
      "outputs": [
        {
          "output_type": "stream",
          "name": "stdout",
          "text": [
            "Primero = 10\n",
            "Segundo = 20\n",
            "Primero = 10\n",
            "Segundo = 20\n",
            "|10|-->|20|-->"
          ]
        }
      ]
    },
    {
      "cell_type": "code",
      "metadata": {
        "colab": {
          "base_uri": "https://localhost:8080/"
        },
        "id": "S5KtMglY0jp0",
        "outputId": "9a05e8b1-2a34-4e3b-f0a5-9d20edafda14"
      },
      "source": [
        "head = Nodo(10,Nodo(20, Nodo(30,Nodo(40))))\n",
        "#Nodo (valor, siguinte)\n",
        "\n",
        "#transversal\n",
        "curr_node = head\n",
        "while curr_node != None:\n",
        "  print(f\"|{curr_node.data}|-->\", end=\"\")\n",
        "  curr_node = curr_node.next\n",
        "print(\"\")\n",
        "# Imprimir el primero\n",
        "print(head.data)\n",
        "\n",
        "#imprimir el ultimo\n",
        "curr_node = head\n",
        "while curr_node.next != None:\n",
        "  curr_node = curr_node.next\n",
        "print(curr_node.data)\n",
        "\n",
        "curr_node = head\n",
        "while curr_node.data != 20:\n",
        "  curr_node = curr_node.next\n",
        "print(curr_node.data)\n",
        "\n",
        "#Crear el nodo 25\n",
        "\n",
        "curr_node.next = Nodo(25, curr_node.next)\n",
        "print(\"Despues de insertar el 25:\")\n",
        "\n",
        "#Transversal\n",
        "curr_node = head\n",
        "while curr_node != None:\n",
        "  print(f\"|{curr_node.data}|-->\", end=\"\")\n",
        "  curr_node = curr_node.next\n",
        "print(\"\")"
      ],
      "execution_count": 4,
      "outputs": [
        {
          "output_type": "stream",
          "name": "stdout",
          "text": [
            "|10|-->|20|-->|30|-->|40|-->\n",
            "10\n",
            "40\n",
            "20\n",
            "Despues de insertar el 25:\n",
            "|10|-->|20|-->|25|-->|30|-->|40|-->\n"
          ]
        }
      ]
    },
    {
      "cell_type": "code",
      "metadata": {
        "id": "AkCMagJfuNPa"
      },
      "source": [
        "class Nodo:\n",
        "  def __init__(self,value,siguiente = None):\n",
        "    self.data= value\n",
        "    self.next= siguiente\n",
        "\n",
        "class LinkedList:\n",
        "  def __init__(self):\n",
        "    self.head = None\n",
        "\n",
        "  def is_empty (self):\n",
        "    return self.head == None\n",
        "\n",
        "  def get_tail(self):\n",
        "    if self.is_empty():\n",
        "      return None\n",
        "    else:\n",
        "      curr_node = self.head\n",
        "      while curr_node.next != None:\n",
        "        curr_node = curr_node.next\n",
        "      return curr_node\n",
        "\n",
        "  def append( self, value):\n",
        "    if self.head == None:\n",
        "        self.head = Nodo(value)\n",
        "    else:\n",
        "      curr_node = self.head\n",
        "      while curr_node.next != None:\n",
        "        curr_node = curr_node.next\n",
        "      curr_node.next = Nodo(value)\n",
        "\n",
        "  def transversal (self):\n",
        "    curr_node = self.head\n",
        "    while curr_node != None:\n",
        "      print(f\"| {curr_node.data} | -->\", end=\"\")\n",
        "      curr_node = curr_node.next\n",
        "    print (\"\")\n",
        "\n",
        "  def remove ( self , value):\n",
        "    if self.head == None:\n",
        "      print(\"Lista vacia, no se pudo remover nada\")\n",
        "    else:\n",
        "      curr_node = self.head\n",
        "      aux = None\n",
        "      while curr_node.data != value:\n",
        "        aux = curr_node\n",
        "        curr_node = curr_node.next\n",
        "        \n",
        "      if curr_node != None:\n",
        "        aux.next = curr_node.next\n",
        "        curr_node = None\n",
        "\n",
        "  def preppend ( self, value):\n",
        "    if self.head != None:\n",
        "      print(\"esta vacio\")\n",
        "    else:\n",
        "      aux = self.head\n",
        "      self.head = Nodo (value,aux)\n",
        "  \n",
        "  def pop(self, value):\n",
        "    if self.head !=None:\n",
        "      print(\"no hay nada que quitar\")\n",
        "    else:\n",
        "      curr_node = self.head\n",
        "      aux = None\n",
        "      while curr_node.data != value:\n",
        "        aux = curr_node\n",
        "        curr_node = curr_node.next\n",
        "        \n",
        "      if curr_node != None:\n",
        "        aux.next = curr_node.next\n",
        "        curr_node = None\n",
        "\n",
        "  def pop_first(self , value):\n",
        "    if self.head !=None:\n",
        "      print(\"No hay elementos que quitar\")\n",
        "    else:\n",
        "      curr_node = self.head\n",
        "      aux = None\n",
        "      while curr_node.data != value:\n",
        "        aux = curr_node\n",
        "        curr_node = curr_node.next\n",
        "        \n",
        "      if curr_node != None:\n",
        "        aux.next = curr_node.next\n",
        "        curr_node = None\n",
        "\n",
        "\n",
        "\n"
      ],
      "execution_count": 5,
      "outputs": []
    },
    {
      "cell_type": "code",
      "metadata": {
        "colab": {
          "base_uri": "https://localhost:8080/"
        },
        "id": "pT1oQk8RuTgz",
        "outputId": "c169c386-a381-4c56-a5d7-4e24bc1eb947"
      },
      "source": [
        "lista = LinkedList()\n",
        "\n",
        "if lista.is_empty:\n",
        "  print(\"La lista esta vacia\")\n",
        "else:\n",
        "  print(\"La lista no esta vacia\")\n",
        "\n",
        "lista.append(20)\n",
        "lista.append(110)\n",
        "lista.append(600)\n",
        "lista.append(10)\n",
        "nodo = lista.get_tail()\n",
        "if nodo != None:\n",
        "  print(nodo.data)\n",
        "else: \n",
        "  print(\"La lista esta vacia\")\n",
        "lista.append(20)\n",
        "lista.append(110)\n",
        "lista.append(600)\n",
        "lista.append(10)\n",
        "lista.transversal()\n",
        "lista.transversal()\n",
        "lista.preppend(6)\n",
        "lista.remove(110)\n",
        "lista.pop(600)\n",
        "lista.pop_first(20)"
      ],
      "execution_count": 6,
      "outputs": [
        {
          "output_type": "stream",
          "name": "stdout",
          "text": [
            "La lista esta vacia\n",
            "10\n",
            "| 20 | -->| 110 | -->| 600 | -->| 10 | -->| 20 | -->| 110 | -->| 600 | -->| 10 | -->\n",
            "| 20 | -->| 110 | -->| 600 | -->| 10 | -->| 20 | -->| 110 | -->| 600 | -->| 10 | -->\n",
            "esta vacio\n",
            "no hay nada que quitar\n",
            "No hay elementos que quitar\n"
          ]
        }
      ]
    },
    {
      "cell_type": "code",
      "metadata": {
        "id": "tr9zwVSKqL75"
      },
      "source": [
        "class NodoDoble:\n",
        "  def __init__(self, value, siguiente = None, previo = None ):\n",
        "    self.data = value\n",
        "    self.next = siguiente\n",
        "    self.prev = previo\n"
      ],
      "execution_count": 7,
      "outputs": []
    },
    {
      "cell_type": "code",
      "metadata": {
        "colab": {
          "base_uri": "https://localhost:8080/"
        },
        "id": "kHkKmltFuSaU",
        "outputId": "24582ed9-67fe-4bfa-8ba8-26f0bb2e4b13"
      },
      "source": [
        "#Ejercicio 1\n",
        "head = NodoDoble(10)\n",
        "tail = head\n",
        "print(tail.data)\n",
        "\n",
        "#ejercicio 2\n",
        "print(\"ejercicio 2\")\n",
        "head = NodoDoble(10,NodoDoble(20))\n",
        "head.next.prev = head\n",
        "tail = head.next\n",
        "print(\"el primero:\", head.data)\n",
        "print(\"el primero:\", tail.prev.data)\n",
        "print(\"el segundo:\", head.next.data)\n",
        "print(\"el segundo:\", tail.data)\n",
        "\n",
        "#ejercicio 3\n",
        "print(\"Ejercicio 3\")\n",
        "head = NodoDoble(10,NodoDoble(20,NodoDoble(30,NodoDoble(40))))\n",
        "tail = head.next.next.next\n",
        "head.next.prev = head\n",
        "head.next.next.prev = head.next\n",
        "tail.prev = head.next.next\n",
        "print(\"el primero:\", head.data)\n",
        "print(\"el primero:\", tail.prev.prev.prev.data)\n",
        "print(\"el ultimo:\", tail.data)\n",
        "print(\"el ultimo:\", head.next.next.next.data)\n",
        "\n",
        "#Transversal\n",
        "curr_node = head\n",
        "while curr_node != None:\n",
        "  print(f\"|{curr_node.data}|-->\", end=\"\")\n",
        "  curr_node = curr_node.next\n",
        "print(\"\")\n",
        "\n",
        "#Reverse transversal\n",
        "curr_node = tail\n",
        "while curr_node != None:\n",
        "  print(f\"|{curr_node.data}|-->\", end=\"\")\n",
        "  curr_node = curr_node.prev\n",
        "print(\"\")\n",
        "\n",
        "#Ejercicio 4\n",
        "print(\"Ejercicio 4\")\n",
        "tail.next = NodoDoble( 50, None, tail)\n",
        "curr_node = head\n",
        "\n",
        "#Transversal\n",
        "while curr_node != None:\n",
        "  print(f\"|{curr_node.data}|-->\", end=\"\")\n",
        "  curr_node = curr_node.next\n",
        "print(\"\")\n",
        "\n",
        "#Reverse transversal\n",
        "curr_node = tail.next\n",
        "while curr_node != None:\n",
        "  print(f\"|{curr_node.data}|-->\", end=\"\")\n",
        "  curr_node = curr_node.prev\n",
        "print(\"\")\n",
        "\n"
      ],
      "execution_count": 8,
      "outputs": [
        {
          "output_type": "stream",
          "name": "stdout",
          "text": [
            "10\n",
            "ejercicio 2\n",
            "el primero: 10\n",
            "el primero: 10\n",
            "el segundo: 20\n",
            "el segundo: 20\n",
            "Ejercicio 3\n",
            "el primero: 10\n",
            "el primero: 10\n",
            "el ultimo: 40\n",
            "el ultimo: 40\n",
            "|10|-->|20|-->|30|-->|40|-->\n",
            "|40|-->|30|-->|20|-->|10|-->\n",
            "Ejercicio 4\n",
            "|10|-->|20|-->|30|-->|40|-->|50|-->\n",
            "|50|-->|40|-->|30|-->|20|-->|10|-->\n"
          ]
        }
      ]
    },
    {
      "cell_type": "code",
      "metadata": {
        "id": "xnhrqC7e85nO"
      },
      "source": [
        "    class DoubleLinkedList:\n",
        "        def __init__(self):\n",
        "            self.head = None\n",
        "            self.tail = None\n",
        "            self.size = 0\n",
        "\n",
        "        def get_size(self):\n",
        "            return self.size\n",
        "\n",
        "        def is_empty(self): \n",
        "            return self.size == 0\n",
        "\n",
        "        def append(self, value):\n",
        "            if self.is_empty():\n",
        "                self.head = NodoDoble(value)\n",
        "                self.tail = self.head\n",
        "            else:\n",
        "                self.tail.next = NodoDoble(value, None, self.tail)\n",
        "                self.tail = self.tail.next\n",
        "            self.size += 1 \n",
        "\n",
        "        def transversal(self):\n",
        "            curr_node = self.head \n",
        "            while curr_node != None :\n",
        "                print(f\"| {curr_node.data} | -->\", end=\"\")\n",
        "                curr_node = curr_node.next\n",
        "            print(\"\")\n",
        "\n",
        "\n",
        "        def remove_from_head(self, value):\n",
        "            curr_node = self.head \n",
        "            while curr_node.data != value: \n",
        "                curr_node = curr_node.next\n",
        "            if curr_node.data == value:\n",
        "                curr_node.prev.next = curr_node.next\n",
        "                curr_node.next.prev = curr_node.prev\n",
        "                \n",
        "           # self.size -= 1\n",
        "\n",
        "\n",
        "        def remove_from_tail(self, value):\n",
        "            curr_node = self.tail\n",
        "            while curr_node.data != value:\n",
        "                curr_node = curr_node.prev\n",
        "        \n",
        "            if curr_node.data == value:\n",
        "                curr_node.next.prev = curr_node.prev\n",
        "                curr_node.prev.next = curr_node.next\n",
        "            \n",
        "           \n",
        "        def find_from_head(self, value):\n",
        "            curr_node = self.head \n",
        "            contador = 0\n",
        "            while curr_node.data != value:\n",
        "                contador += 1\n",
        "                curr_node = curr_node.next\n",
        "\n",
        "            if curr_node.data == value:\n",
        "                print(f\"El nodo está en la posición: {contador + 1} ingresando por head\")\n",
        "\n",
        "\n",
        "        def find_from_tail(self, value):\n",
        "            curr_node = self.tail\n",
        "            contador = 0\n",
        "            while curr_node.data != value:\n",
        "                contador += 1\n",
        "                curr_node = curr_node.prev\n",
        "        \n",
        "            if curr_node.data == value:\n",
        "                print(f\"Su Nodo está en la posición: {contador + 1} ingresando por tail\")\n",
        "            \n",
        "\n",
        "\n",
        "        def reverse_transversal(self):\n",
        "            curr_node = self.tail\n",
        "            while curr_node != None:\n",
        "                print(f\"| {curr_node.data} | -->\", end=\"\")\n",
        "                curr_node = curr_node.prev\n",
        "            print(\"\")"
      ],
      "execution_count": 9,
      "outputs": []
    },
    {
      "cell_type": "code",
      "metadata": {
        "id": "jqs3TGHWvAc2",
        "colab": {
          "base_uri": "https://localhost:8080/",
          "height": 401
        },
        "outputId": "ef53a0d9-f3c8-47d4-dbbe-b0b0ecfafca1"
      },
      "source": [
        "    list2 = DoubleLinkedList()\n",
        "    list2.append(20)\n",
        "    list2.append(40)\n",
        "    list2.append(60)\n",
        "    list2.append(80)\n",
        "    list2.append(100)\n",
        "    list2.append(120)\n",
        "    list2.append(140)\n",
        "    list2.transversal()\n",
        "    print(f\"Esta vacía {ldl.is_empty() } \")\n",
        "\n",
        "    print(\"Con remove_from_head\")\n",
        "    list2.remove_from_head(20)\n",
        "    list2.transversal()\n",
        "    print(\"Con remove_from_tail\")\n",
        "    list2.remove_from_tail(20)\n",
        "    llist2.transversal()\n",
        "    print(\"\")\n",
        "    print(\"Con find_from_head\")\n",
        "    print(f\"Su Lista Doblemente Ligada tiene {ldl.get_size()} elementos\")\n",
        "    print(\"\")\n",
        "    ldl.find_from_head(20)\n",
        "    print(f\"Su Lista Doblemente Ligada tiene {ldl.get_size()} elementos\")\n",
        "    print(\"\")\n",
        "    ldl.find_from_tail(20)\n",
        "    print(\"\")\n",
        "    ldl.find_from_head(100)\n",
        "    print(\"\")\n",
        "    print(\"Con reverse_transversal\")\n",
        "    ldl.reverse_transversal()"
      ],
      "execution_count": 11,
      "outputs": [
        {
          "output_type": "stream",
          "name": "stdout",
          "text": [
            "| 20 | -->| 40 | -->| 60 | -->| 80 | -->| 100 | -->| 120 | -->| 140 | -->\n",
            "Esta vacía False \n",
            "Con remove_from_head\n"
          ]
        },
        {
          "output_type": "error",
          "ename": "AttributeError",
          "evalue": "ignored",
          "traceback": [
            "\u001b[0;31m---------------------------------------------------------------------------\u001b[0m",
            "\u001b[0;31mAttributeError\u001b[0m                            Traceback (most recent call last)",
            "\u001b[0;32m<ipython-input-11-fb1179753861>\u001b[0m in \u001b[0;36m<module>\u001b[0;34m()\u001b[0m\n\u001b[1;32m     11\u001b[0m \u001b[0;34m\u001b[0m\u001b[0m\n\u001b[1;32m     12\u001b[0m \u001b[0mprint\u001b[0m\u001b[0;34m(\u001b[0m\u001b[0;34m\"Con remove_from_head\"\u001b[0m\u001b[0;34m)\u001b[0m\u001b[0;34m\u001b[0m\u001b[0;34m\u001b[0m\u001b[0m\n\u001b[0;32m---> 13\u001b[0;31m \u001b[0mlist2\u001b[0m\u001b[0;34m.\u001b[0m\u001b[0mremove_from_head\u001b[0m\u001b[0;34m(\u001b[0m\u001b[0;36m20\u001b[0m\u001b[0;34m)\u001b[0m\u001b[0;34m\u001b[0m\u001b[0;34m\u001b[0m\u001b[0m\n\u001b[0m\u001b[1;32m     14\u001b[0m \u001b[0mlist2\u001b[0m\u001b[0;34m.\u001b[0m\u001b[0mtransversal\u001b[0m\u001b[0;34m(\u001b[0m\u001b[0;34m)\u001b[0m\u001b[0;34m\u001b[0m\u001b[0;34m\u001b[0m\u001b[0m\n\u001b[1;32m     15\u001b[0m \u001b[0mprint\u001b[0m\u001b[0;34m(\u001b[0m\u001b[0;34m\"Con remove_from_tail\"\u001b[0m\u001b[0;34m)\u001b[0m\u001b[0;34m\u001b[0m\u001b[0;34m\u001b[0m\u001b[0m\n",
            "\u001b[0;32m<ipython-input-9-9d5a08f64116>\u001b[0m in \u001b[0;36mremove_from_head\u001b[0;34m(self, value)\u001b[0m\n\u001b[1;32m     33\u001b[0m             \u001b[0mcurr_node\u001b[0m \u001b[0;34m=\u001b[0m \u001b[0mcurr_node\u001b[0m\u001b[0;34m.\u001b[0m\u001b[0mnext\u001b[0m\u001b[0;34m\u001b[0m\u001b[0;34m\u001b[0m\u001b[0m\n\u001b[1;32m     34\u001b[0m         \u001b[0;32mif\u001b[0m \u001b[0mcurr_node\u001b[0m\u001b[0;34m.\u001b[0m\u001b[0mdata\u001b[0m \u001b[0;34m==\u001b[0m \u001b[0mvalue\u001b[0m\u001b[0;34m:\u001b[0m\u001b[0;34m\u001b[0m\u001b[0;34m\u001b[0m\u001b[0m\n\u001b[0;32m---> 35\u001b[0;31m             \u001b[0mcurr_node\u001b[0m\u001b[0;34m.\u001b[0m\u001b[0mprev\u001b[0m\u001b[0;34m.\u001b[0m\u001b[0mnext\u001b[0m \u001b[0;34m=\u001b[0m \u001b[0mcurr_node\u001b[0m\u001b[0;34m.\u001b[0m\u001b[0mnext\u001b[0m\u001b[0;34m\u001b[0m\u001b[0;34m\u001b[0m\u001b[0m\n\u001b[0m\u001b[1;32m     36\u001b[0m             \u001b[0mcurr_node\u001b[0m\u001b[0;34m.\u001b[0m\u001b[0mnext\u001b[0m\u001b[0;34m.\u001b[0m\u001b[0mprev\u001b[0m \u001b[0;34m=\u001b[0m \u001b[0mcurr_node\u001b[0m\u001b[0;34m.\u001b[0m\u001b[0mprev\u001b[0m\u001b[0;34m\u001b[0m\u001b[0;34m\u001b[0m\u001b[0m\n\u001b[1;32m     37\u001b[0m \u001b[0;34m\u001b[0m\u001b[0m\n",
            "\u001b[0;31mAttributeError\u001b[0m: 'NoneType' object has no attribute 'next'"
          ]
        }
      ]
    }
  ]
}